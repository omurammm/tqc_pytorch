{
 "cells": [
  {
   "cell_type": "code",
   "execution_count": 1,
   "metadata": {},
   "outputs": [],
   "source": [
    "from scipy.stats import norm"
   ]
  },
  {
   "cell_type": "code",
   "execution_count": 2,
   "metadata": {},
   "outputs": [],
   "source": [
    "import torch"
   ]
  },
  {
   "cell_type": "code",
   "execution_count": 3,
   "metadata": {},
   "outputs": [],
   "source": [
    "import numpy as np"
   ]
  },
  {
   "cell_type": "code",
   "execution_count": 4,
   "metadata": {},
   "outputs": [
    {
     "data": {
      "text/plain": [
       "1.6448536269514722"
      ]
     },
     "execution_count": 4,
     "metadata": {},
     "output_type": "execute_result"
    }
   ],
   "source": [
    "norm.ppf(0.95)"
   ]
  },
  {
   "cell_type": "code",
   "execution_count": 243,
   "metadata": {},
   "outputs": [
    {
     "name": "stdout",
     "output_type": "stream",
     "text": [
      "[0.08333333333333333, 0.25, 0.4166666666666667, 0.5833333333333334, 0.75, 0.9166666666666666]\n"
     ]
    }
   ],
   "source": [
    "DEVICE = 'cpu'\n",
    "size = 6\n",
    "taus = [(2 * i + 1) / (2 * size)  for i in range(size)]\n",
    "print(taus)\n",
    "v = torch.tensor([19., 1., 1., 1.3, 1.5, 2], dtype=torch.float32)\n",
    "# v = torch.ones((size,), dtype=torch.float32)\n",
    "# v = [1, 1, 1]\n",
    "Q = torch.tensor([[9], [10.3], [12.2], [13.2], [15.2], [19]], dtype=torch.float32).unsqueeze(0)\n",
    "# Q = torch.tensor([[9], [10.3], [12.2], [13.2], [15.2], [19], [20.3], [22.2], [23.2], [25]], dtype=torch.float32).unsqueeze(0)\n",
    "# X = torch.tensor([[1, norm.ppf(taus[0])], [1, norm.ppf(taus[1])], [1, norm.ppf(taus[2])]], dtype=torch.float32).unsqueeze(0)\n",
    "quantile_tau = taus \n",
    "X = [[1, norm.ppf(t), norm.ppf(t)**2 - 1, norm.ppf(t)**3 - 3 * norm.ppf(t)] for t in quantile_tau]\n",
    "# X = [[1, norm.ppf(t), (norm.ppf(t)**2 - 0.3)] for t in quantile_tau]\n",
    "X = torch.tensor(X, device=DEVICE).float()\n",
    "V = torch.diag(v)\n",
    "V = V.unsqueeze(0)"
   ]
  },
  {
   "cell_type": "code",
   "execution_count": 244,
   "metadata": {},
   "outputs": [
    {
     "data": {
      "text/plain": [
       "(tensor([[[ 9.0000],\n",
       "          [10.3000],\n",
       "          [12.2000],\n",
       "          [13.2000],\n",
       "          [15.2000],\n",
       "          [19.0000]]]),\n",
       " tensor([[ 1.0000, -1.3830,  0.9127,  1.5038],\n",
       "         [ 1.0000, -0.6745, -0.5451,  1.7166],\n",
       "         [ 1.0000, -0.2104, -0.9557,  0.6220],\n",
       "         [ 1.0000,  0.2104, -0.9557, -0.6220],\n",
       "         [ 1.0000,  0.6745, -0.5451, -1.7166],\n",
       "         [ 1.0000,  1.3830,  0.9127, -1.5038]]),\n",
       " tensor([[[19.0000,  0.0000,  0.0000,  0.0000,  0.0000,  0.0000],\n",
       "          [ 0.0000,  1.0000,  0.0000,  0.0000,  0.0000,  0.0000],\n",
       "          [ 0.0000,  0.0000,  1.0000,  0.0000,  0.0000,  0.0000],\n",
       "          [ 0.0000,  0.0000,  0.0000,  1.3000,  0.0000,  0.0000],\n",
       "          [ 0.0000,  0.0000,  0.0000,  0.0000,  1.5000,  0.0000],\n",
       "          [ 0.0000,  0.0000,  0.0000,  0.0000,  0.0000,  2.0000]]]))"
      ]
     },
     "execution_count": 244,
     "metadata": {},
     "output_type": "execute_result"
    }
   ],
   "source": [
    "\n",
    "Q, X, V"
   ]
  },
  {
   "cell_type": "code",
   "execution_count": 245,
   "metadata": {},
   "outputs": [
    {
     "data": {
      "text/plain": [
       "(tensor([[[ 9.0000],\n",
       "          [10.3000],\n",
       "          [12.2000],\n",
       "          [13.2000],\n",
       "          [15.2000],\n",
       "          [19.0000]],\n",
       " \n",
       "         [[ 9.0000],\n",
       "          [10.3000],\n",
       "          [12.2000],\n",
       "          [13.2000],\n",
       "          [15.2000],\n",
       "          [19.0000]]]),\n",
       " tensor([[[ 1.0000, -1.3830,  0.9127,  1.5038],\n",
       "          [ 1.0000, -0.6745, -0.5451,  1.7166],\n",
       "          [ 1.0000, -0.2104, -0.9557,  0.6220],\n",
       "          [ 1.0000,  0.2104, -0.9557, -0.6220],\n",
       "          [ 1.0000,  0.6745, -0.5451, -1.7166],\n",
       "          [ 1.0000,  1.3830,  0.9127, -1.5038]],\n",
       " \n",
       "         [[ 1.0000, -1.3830,  0.9127,  1.5038],\n",
       "          [ 1.0000, -0.6745, -0.5451,  1.7166],\n",
       "          [ 1.0000, -0.2104, -0.9557,  0.6220],\n",
       "          [ 1.0000,  0.2104, -0.9557, -0.6220],\n",
       "          [ 1.0000,  0.6745, -0.5451, -1.7166],\n",
       "          [ 1.0000,  1.3830,  0.9127, -1.5038]]]),\n",
       " tensor([[[19.0000,  0.0000,  0.0000,  0.0000,  0.0000,  0.0000],\n",
       "          [ 0.0000,  1.0000,  0.0000,  0.0000,  0.0000,  0.0000],\n",
       "          [ 0.0000,  0.0000,  1.0000,  0.0000,  0.0000,  0.0000],\n",
       "          [ 0.0000,  0.0000,  0.0000,  1.3000,  0.0000,  0.0000],\n",
       "          [ 0.0000,  0.0000,  0.0000,  0.0000,  1.5000,  0.0000],\n",
       "          [ 0.0000,  0.0000,  0.0000,  0.0000,  0.0000,  2.0000]],\n",
       " \n",
       "         [[19.0000,  0.0000,  0.0000,  0.0000,  0.0000,  0.0000],\n",
       "          [ 0.0000,  1.0000,  0.0000,  0.0000,  0.0000,  0.0000],\n",
       "          [ 0.0000,  0.0000,  1.0000,  0.0000,  0.0000,  0.0000],\n",
       "          [ 0.0000,  0.0000,  0.0000,  1.3000,  0.0000,  0.0000],\n",
       "          [ 0.0000,  0.0000,  0.0000,  0.0000,  1.5000,  0.0000],\n",
       "          [ 0.0000,  0.0000,  0.0000,  0.0000,  0.0000,  2.0000]]]))"
      ]
     },
     "execution_count": 245,
     "metadata": {},
     "output_type": "execute_result"
    }
   ],
   "source": [
    "Q, X, V = Q.expand(2, -1, -1), X.expand(2, -1, -1), V.expand(2, -1, -1)\n",
    "Q, X, V"
   ]
  },
  {
   "cell_type": "code",
   "execution_count": 246,
   "metadata": {},
   "outputs": [
    {
     "data": {
      "text/plain": [
       "(torch.Size([2, 6, 1]), torch.Size([2, 6, 4]), torch.Size([2, 6, 6]))"
      ]
     },
     "execution_count": 246,
     "metadata": {},
     "output_type": "execute_result"
    }
   ],
   "source": [
    "Q.shape, X.shape, V.shape"
   ]
  },
  {
   "cell_type": "code",
   "execution_count": 247,
   "metadata": {},
   "outputs": [
    {
     "data": {
      "text/plain": [
       "tensor([[[13.1681],\n",
       "         [ 4.0554],\n",
       "         [ 0.5584],\n",
       "         [ 0.2101]],\n",
       "\n",
       "        [[13.1681],\n",
       "         [ 4.0554],\n",
       "         [ 0.5584],\n",
       "         [ 0.2101]]])"
      ]
     },
     "execution_count": 247,
     "metadata": {},
     "output_type": "execute_result"
    }
   ],
   "source": [
    "(X.transpose(1, 2).bmm(V.inverse()).bmm(X)).inverse().bmm(X.transpose(1, 2)).bmm(V.inverse()).bmm(Q)"
   ]
  },
  {
   "cell_type": "code",
   "execution_count": 248,
   "metadata": {},
   "outputs": [
    {
     "data": {
      "text/plain": [
       "tensor([[[13.2948],\n",
       "         [ 3.7160],\n",
       "         [ 0.7385],\n",
       "         [ 0.0861]],\n",
       "\n",
       "        [[13.2948],\n",
       "         [ 3.7160],\n",
       "         [ 0.7385],\n",
       "         [ 0.0861]]])"
      ]
     },
     "execution_count": 248,
     "metadata": {},
     "output_type": "execute_result"
    }
   ],
   "source": [
    "(X.transpose(1, 2).bmm(X)).inverse().bmm(X.transpose(1, 2)).bmm(Q)"
   ]
  },
  {
   "cell_type": "code",
   "execution_count": 236,
   "metadata": {},
   "outputs": [
    {
     "data": {
      "text/plain": [
       "tensor(13.1500)"
      ]
     },
     "execution_count": 236,
     "metadata": {},
     "output_type": "execute_result"
    }
   ],
   "source": [
    "Q.mean()"
   ]
  },
  {
   "cell_type": "code",
   "execution_count": 249,
   "metadata": {},
   "outputs": [
    {
     "ename": "RuntimeError",
     "evalue": "self must be a matrix",
     "output_type": "error",
     "traceback": [
      "\u001b[0;31m---------------------------------------------------------------------------\u001b[0m",
      "\u001b[0;31mRuntimeError\u001b[0m                              Traceback (most recent call last)",
      "Cell \u001b[0;32mIn[249], line 1\u001b[0m\n\u001b[0;32m----> 1\u001b[0m (X\u001b[39m.\u001b[39;49mT\u001b[39m.\u001b[39;49mmm(V\u001b[39m.\u001b[39;49minverse())\u001b[39m.\u001b[39mmm(X))\u001b[39m.\u001b[39minverse()\u001b[39m.\u001b[39mmm(X\u001b[39m.\u001b[39mT)\u001b[39m.\u001b[39mmm(V\u001b[39m.\u001b[39minverse())\u001b[39m.\u001b[39mmm(Q)\n",
      "\u001b[0;31mRuntimeError\u001b[0m: self must be a matrix"
     ]
    }
   ],
   "source": [
    "(X.T.mm(V.inverse()).mm(X)).inverse().mm(X.T).mm(V.inverse()).mm(Q)"
   ]
  },
  {
   "cell_type": "code",
   "execution_count": 252,
   "metadata": {},
   "outputs": [
    {
     "data": {
      "text/plain": [
       "tensor([[[ 0.,  1.,  2.,  3.,  4.],\n",
       "         [ 5.,  6.,  7.,  8.,  9.],\n",
       "         [10., 11., 12., 13., 14.]],\n",
       "\n",
       "        [[15., 16., 17., 18., 19.],\n",
       "         [20., 21., 22., 23., 24.],\n",
       "         [25., 26., 27., 28., 29.]]])"
      ]
     },
     "execution_count": 252,
     "metadata": {},
     "output_type": "execute_result"
    }
   ],
   "source": [
    "torch.arange(2*3*5).reshape(2, 3, 5).float()"
   ]
  },
  {
   "cell_type": "code",
   "execution_count": 254,
   "metadata": {},
   "outputs": [
    {
     "data": {
      "text/plain": [
       "tensor([[5., 5., 5., 5., 5.],\n",
       "        [5., 5., 5., 5., 5.]])"
      ]
     },
     "execution_count": 254,
     "metadata": {},
     "output_type": "execute_result"
    }
   ],
   "source": [
    "torch.arange(2*3*5).reshape(2, 3, 5).float().std(1)"
   ]
  },
  {
   "cell_type": "code",
   "execution_count": null,
   "metadata": {},
   "outputs": [],
   "source": []
  }
 ],
 "metadata": {
  "kernelspec": {
   "display_name": "redq",
   "language": "python",
   "name": "redq"
  },
  "language_info": {
   "codemirror_mode": {
    "name": "ipython",
    "version": 3
   },
   "file_extension": ".py",
   "mimetype": "text/x-python",
   "name": "python",
   "nbconvert_exporter": "python",
   "pygments_lexer": "ipython3",
   "version": "3.8.13"
  },
  "orig_nbformat": 4
 },
 "nbformat": 4,
 "nbformat_minor": 2
}
